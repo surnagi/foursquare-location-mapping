{
 "cells": [
  {
   "cell_type": "code",
   "execution_count": null,
   "metadata": {
    "colab": {
     "base_uri": "https://localhost:8080/"
    },
    "id": "w5g85uf3GOCy",
    "outputId": "ec4d2e5c-22b5-4f93-f436-f75bd5cc3771"
   },
   "outputs": [
    {
     "name": "stdout",
     "output_type": "stream",
     "text": [
      "Looking in indexes: https://pypi.org/simple, https://us-python.pkg.dev/colab-wheels/public/simple/\n",
      "Requirement already satisfied: reverse_geocode in /usr/local/lib/python3.7/dist-packages (1.4.1)\n",
      "Requirement already satisfied: numpy in /usr/local/lib/python3.7/dist-packages (from reverse_geocode) (1.21.6)\n",
      "Requirement already satisfied: scipy in /usr/local/lib/python3.7/dist-packages (from reverse_geocode) (1.7.3)\n"
     ]
    }
   ],
   "source": [
    "import pandas as pd\n",
    "import numpy as np\n",
    "import matplotlib.pyplot as plt\n",
    "%matplotlib inline\n",
    "import seaborn as sns\n",
    "import warnings\n",
    "warnings.filterwarnings('ignore')\n",
    "import geopy.distance\n",
    "! pip install reverse_geocode\n",
    "import reverse_geocode"
   ]
  },
  {
   "cell_type": "code",
   "execution_count": null,
   "metadata": {
    "id": "kHrggVqwGe_F"
   },
   "outputs": [],
   "source": [
    "df_train = pd.read_csv(\"train.csv\")\n",
    "df_test = pd.read_csv(\"test.csv\")\n",
    "df_pairs = pd.read_csv(\"pairs.csv\")\n"
   ]
  },
  {
   "cell_type": "code",
   "execution_count": null,
   "metadata": {
    "id": "SEwj9XfzxDEm"
   },
   "outputs": [],
   "source": [
    "#Converting all the strings values to lower case\n",
    "def fun_lower(df):\n",
    "  for c in df.columns:\n",
    "    df[c] = df[c].fillna('').astype(str).apply(lambda x: x.lower())\n",
    "\n",
    "fun_lower(df_train)\n",
    "fun_lower(df_pairs)\n",
    "fun_lower(df_test)"
   ]
  },
  {
   "cell_type": "code",
   "execution_count": null,
   "metadata": {
    "id": "3Hp-R4ZV-GJt"
   },
   "outputs": [],
   "source": [
    "def missing(df):\n",
    "  for c in df.columns:\n",
    "    df[c] = df[c].replace(\"\", np.nan)\n",
    "\n",
    "missing(df_train)\n",
    "missing(df_test)\n",
    "missing(df_pairs)"
   ]
  },
  {
   "cell_type": "code",
   "execution_count": null,
   "metadata": {
    "id": "nfGB2v9p078i"
   },
   "outputs": [],
   "source": [
    "#Converting all object columns to category\n",
    "def obj_to_cat(df):\n",
    "  for i in df.columns:\n",
    "    if df[i].dtype == \"O\":\n",
    "      df[i] = df[i].astype('category')\n",
    "obj_to_cat(df_train)\n",
    "obj_to_cat(df_pairs)\n",
    "obj_to_cat(df_test)"
   ]
  },
  {
   "cell_type": "code",
   "execution_count": null,
   "metadata": {
    "id": "BhKB4VAt1Qr4"
   },
   "outputs": [],
   "source": [
    "df_test[\"zip\"] = df_test[\"zip\"].astype('category')\n",
    "df_test[\"phone\"] = df_test[\"phone\"].astype('category')"
   ]
  },
  {
   "cell_type": "code",
   "execution_count": null,
   "metadata": {
    "colab": {
     "base_uri": "https://localhost:8080/",
     "height": 376
    },
    "id": "yULQAt-FtZVz",
    "outputId": "a94c819d-c13a-40bd-d3dc-97dac6bd1da7"
   },
   "outputs": [
    {
     "data": {
      "text/html": [
       "\n",
       "  <div id=\"df-c447a537-3713-4627-9b71-01dcd2d6a894\">\n",
       "    <div class=\"colab-df-container\">\n",
       "      <div>\n",
       "<style scoped>\n",
       "    .dataframe tbody tr th:only-of-type {\n",
       "        vertical-align: middle;\n",
       "    }\n",
       "\n",
       "    .dataframe tbody tr th {\n",
       "        vertical-align: top;\n",
       "    }\n",
       "\n",
       "    .dataframe thead th {\n",
       "        text-align: right;\n",
       "    }\n",
       "</style>\n",
       "<table border=\"1\" class=\"dataframe\">\n",
       "  <thead>\n",
       "    <tr style=\"text-align: right;\">\n",
       "      <th></th>\n",
       "      <th>id_1</th>\n",
       "      <th>name_1</th>\n",
       "      <th>latitude_1</th>\n",
       "      <th>longitude_1</th>\n",
       "      <th>address_1</th>\n",
       "      <th>city_1</th>\n",
       "      <th>state_1</th>\n",
       "      <th>zip_1</th>\n",
       "      <th>country_1</th>\n",
       "      <th>url_1</th>\n",
       "      <th>...</th>\n",
       "      <th>longitude_2</th>\n",
       "      <th>address_2</th>\n",
       "      <th>city_2</th>\n",
       "      <th>state_2</th>\n",
       "      <th>zip_2</th>\n",
       "      <th>country_2</th>\n",
       "      <th>url_2</th>\n",
       "      <th>phone_2</th>\n",
       "      <th>categories_2</th>\n",
       "      <th>match</th>\n",
       "    </tr>\n",
       "  </thead>\n",
       "  <tbody>\n",
       "    <tr>\n",
       "      <th>0</th>\n",
       "      <td>e_000001272c6c5d</td>\n",
       "      <td>café stad oudenaarde</td>\n",
       "      <td>50.85997533509319</td>\n",
       "      <td>3.6341963487748346</td>\n",
       "      <td>abdijstraat</td>\n",
       "      <td>nederename</td>\n",
       "      <td>oost-vlaanderen</td>\n",
       "      <td>9700</td>\n",
       "      <td>be</td>\n",
       "      <td>NaN</td>\n",
       "      <td>...</td>\n",
       "      <td>3.635206</td>\n",
       "      <td>NaN</td>\n",
       "      <td>NaN</td>\n",
       "      <td>NaN</td>\n",
       "      <td>NaN</td>\n",
       "      <td>be</td>\n",
       "      <td>NaN</td>\n",
       "      <td>NaN</td>\n",
       "      <td>bars</td>\n",
       "      <td>true</td>\n",
       "    </tr>\n",
       "    <tr>\n",
       "      <th>1</th>\n",
       "      <td>e_000008a8ba4f48</td>\n",
       "      <td>turkcell</td>\n",
       "      <td>37.84451021530735</td>\n",
       "      <td>27.84420157619721</td>\n",
       "      <td>adnan menderes bulvarı</td>\n",
       "      <td>NaN</td>\n",
       "      <td>NaN</td>\n",
       "      <td>NaN</td>\n",
       "      <td>tr</td>\n",
       "      <td>NaN</td>\n",
       "      <td>...</td>\n",
       "      <td>27.84556</td>\n",
       "      <td>batı aydın</td>\n",
       "      <td>aydın</td>\n",
       "      <td>NaN</td>\n",
       "      <td>67500</td>\n",
       "      <td>tr</td>\n",
       "      <td>NaN</td>\n",
       "      <td>NaN</td>\n",
       "      <td>electronics stores</td>\n",
       "      <td>false</td>\n",
       "    </tr>\n",
       "    <tr>\n",
       "      <th>2</th>\n",
       "      <td>e_000023d8f4be44</td>\n",
       "      <td>island spa</td>\n",
       "      <td>14.518969876756294</td>\n",
       "      <td>121.01870186448409</td>\n",
       "      <td>5th flr, newport mall, resorts world manila</td>\n",
       "      <td>pasay city</td>\n",
       "      <td>metro manila</td>\n",
       "      <td>NaN</td>\n",
       "      <td>ph</td>\n",
       "      <td>NaN</td>\n",
       "      <td>...</td>\n",
       "      <td>121.01982745051409</td>\n",
       "      <td>NaN</td>\n",
       "      <td>NaN</td>\n",
       "      <td>NaN</td>\n",
       "      <td>NaN</td>\n",
       "      <td>ph</td>\n",
       "      <td>NaN</td>\n",
       "      <td>NaN</td>\n",
       "      <td>spas</td>\n",
       "      <td>true</td>\n",
       "    </tr>\n",
       "  </tbody>\n",
       "</table>\n",
       "<p>3 rows × 25 columns</p>\n",
       "</div>\n",
       "      <button class=\"colab-df-convert\" onclick=\"convertToInteractive('df-c447a537-3713-4627-9b71-01dcd2d6a894')\"\n",
       "              title=\"Convert this dataframe to an interactive table.\"\n",
       "              style=\"display:none;\">\n",
       "        \n",
       "  <svg xmlns=\"http://www.w3.org/2000/svg\" height=\"24px\"viewBox=\"0 0 24 24\"\n",
       "       width=\"24px\">\n",
       "    <path d=\"M0 0h24v24H0V0z\" fill=\"none\"/>\n",
       "    <path d=\"M18.56 5.44l.94 2.06.94-2.06 2.06-.94-2.06-.94-.94-2.06-.94 2.06-2.06.94zm-11 1L8.5 8.5l.94-2.06 2.06-.94-2.06-.94L8.5 2.5l-.94 2.06-2.06.94zm10 10l.94 2.06.94-2.06 2.06-.94-2.06-.94-.94-2.06-.94 2.06-2.06.94z\"/><path d=\"M17.41 7.96l-1.37-1.37c-.4-.4-.92-.59-1.43-.59-.52 0-1.04.2-1.43.59L10.3 9.45l-7.72 7.72c-.78.78-.78 2.05 0 2.83L4 21.41c.39.39.9.59 1.41.59.51 0 1.02-.2 1.41-.59l7.78-7.78 2.81-2.81c.8-.78.8-2.07 0-2.86zM5.41 20L4 18.59l7.72-7.72 1.47 1.35L5.41 20z\"/>\n",
       "  </svg>\n",
       "      </button>\n",
       "      \n",
       "  <style>\n",
       "    .colab-df-container {\n",
       "      display:flex;\n",
       "      flex-wrap:wrap;\n",
       "      gap: 12px;\n",
       "    }\n",
       "\n",
       "    .colab-df-convert {\n",
       "      background-color: #E8F0FE;\n",
       "      border: none;\n",
       "      border-radius: 50%;\n",
       "      cursor: pointer;\n",
       "      display: none;\n",
       "      fill: #1967D2;\n",
       "      height: 32px;\n",
       "      padding: 0 0 0 0;\n",
       "      width: 32px;\n",
       "    }\n",
       "\n",
       "    .colab-df-convert:hover {\n",
       "      background-color: #E2EBFA;\n",
       "      box-shadow: 0px 1px 2px rgba(60, 64, 67, 0.3), 0px 1px 3px 1px rgba(60, 64, 67, 0.15);\n",
       "      fill: #174EA6;\n",
       "    }\n",
       "\n",
       "    [theme=dark] .colab-df-convert {\n",
       "      background-color: #3B4455;\n",
       "      fill: #D2E3FC;\n",
       "    }\n",
       "\n",
       "    [theme=dark] .colab-df-convert:hover {\n",
       "      background-color: #434B5C;\n",
       "      box-shadow: 0px 1px 3px 1px rgba(0, 0, 0, 0.15);\n",
       "      filter: drop-shadow(0px 1px 2px rgba(0, 0, 0, 0.3));\n",
       "      fill: #FFFFFF;\n",
       "    }\n",
       "  </style>\n",
       "\n",
       "      <script>\n",
       "        const buttonEl =\n",
       "          document.querySelector('#df-c447a537-3713-4627-9b71-01dcd2d6a894 button.colab-df-convert');\n",
       "        buttonEl.style.display =\n",
       "          google.colab.kernel.accessAllowed ? 'block' : 'none';\n",
       "\n",
       "        async function convertToInteractive(key) {\n",
       "          const element = document.querySelector('#df-c447a537-3713-4627-9b71-01dcd2d6a894');\n",
       "          const dataTable =\n",
       "            await google.colab.kernel.invokeFunction('convertToInteractive',\n",
       "                                                     [key], {});\n",
       "          if (!dataTable) return;\n",
       "\n",
       "          const docLinkHtml = 'Like what you see? Visit the ' +\n",
       "            '<a target=\"_blank\" href=https://colab.research.google.com/notebooks/data_table.ipynb>data table notebook</a>'\n",
       "            + ' to learn more about interactive tables.';\n",
       "          element.innerHTML = '';\n",
       "          dataTable['output_type'] = 'display_data';\n",
       "          await google.colab.output.renderOutput(dataTable, element);\n",
       "          const docLink = document.createElement('div');\n",
       "          docLink.innerHTML = docLinkHtml;\n",
       "          element.appendChild(docLink);\n",
       "        }\n",
       "      </script>\n",
       "    </div>\n",
       "  </div>\n",
       "  "
      ],
      "text/plain": [
       "               id_1                name_1          latitude_1  \\\n",
       "0  e_000001272c6c5d  café stad oudenaarde   50.85997533509319   \n",
       "1  e_000008a8ba4f48              turkcell   37.84451021530735   \n",
       "2  e_000023d8f4be44            island spa  14.518969876756294   \n",
       "\n",
       "          longitude_1                                    address_1  \\\n",
       "0  3.6341963487748346                                  abdijstraat   \n",
       "1   27.84420157619721                       adnan menderes bulvarı   \n",
       "2  121.01870186448409  5th flr, newport mall, resorts world manila   \n",
       "\n",
       "       city_1          state_1 zip_1 country_1 url_1  ...         longitude_2  \\\n",
       "0  nederename  oost-vlaanderen  9700        be   NaN  ...            3.635206   \n",
       "1         NaN              NaN   NaN        tr   NaN  ...            27.84556   \n",
       "2  pasay city     metro manila   NaN        ph   NaN  ...  121.01982745051409   \n",
       "\n",
       "    address_2 city_2 state_2  zip_2 country_2 url_2 phone_2  \\\n",
       "0         NaN    NaN     NaN    NaN        be   NaN     NaN   \n",
       "1  batı aydın  aydın     NaN  67500        tr   NaN     NaN   \n",
       "2         NaN    NaN     NaN    NaN        ph   NaN     NaN   \n",
       "\n",
       "         categories_2  match  \n",
       "0                bars   true  \n",
       "1  electronics stores  false  \n",
       "2                spas   true  \n",
       "\n",
       "[3 rows x 25 columns]"
      ]
     },
     "execution_count": 7,
     "metadata": {},
     "output_type": "execute_result"
    }
   ],
   "source": [
    "df_pairs.head(3)"
   ]
  },
  {
   "cell_type": "code",
   "execution_count": null,
   "metadata": {
    "colab": {
     "base_uri": "https://localhost:8080/",
     "height": 240
    },
    "id": "49waaBWByaya",
    "outputId": "1ffc8b24-0015-4909-a2af-bb77c606862c"
   },
   "outputs": [
    {
     "data": {
      "text/html": [
       "\n",
       "  <div id=\"df-415fa0ec-8f65-478f-b607-7be4ead8a84d\">\n",
       "    <div class=\"colab-df-container\">\n",
       "      <div>\n",
       "<style scoped>\n",
       "    .dataframe tbody tr th:only-of-type {\n",
       "        vertical-align: middle;\n",
       "    }\n",
       "\n",
       "    .dataframe tbody tr th {\n",
       "        vertical-align: top;\n",
       "    }\n",
       "\n",
       "    .dataframe thead th {\n",
       "        text-align: right;\n",
       "    }\n",
       "</style>\n",
       "<table border=\"1\" class=\"dataframe\">\n",
       "  <thead>\n",
       "    <tr style=\"text-align: right;\">\n",
       "      <th></th>\n",
       "      <th>id</th>\n",
       "      <th>name</th>\n",
       "      <th>latitude</th>\n",
       "      <th>longitude</th>\n",
       "      <th>address</th>\n",
       "      <th>city</th>\n",
       "      <th>state</th>\n",
       "      <th>zip</th>\n",
       "      <th>country</th>\n",
       "      <th>url</th>\n",
       "      <th>phone</th>\n",
       "      <th>categories</th>\n",
       "      <th>point_of_interest</th>\n",
       "    </tr>\n",
       "  </thead>\n",
       "  <tbody>\n",
       "    <tr>\n",
       "      <th>0</th>\n",
       "      <td>e_000001272c6c5d</td>\n",
       "      <td>café stad oudenaarde</td>\n",
       "      <td>50.85997533509319</td>\n",
       "      <td>3.6341963487748346</td>\n",
       "      <td>abdijstraat</td>\n",
       "      <td>nederename</td>\n",
       "      <td>oost-vlaanderen</td>\n",
       "      <td>9700</td>\n",
       "      <td>be</td>\n",
       "      <td>NaN</td>\n",
       "      <td>NaN</td>\n",
       "      <td>bars</td>\n",
       "      <td>p_677e840bb6fc7e</td>\n",
       "    </tr>\n",
       "    <tr>\n",
       "      <th>1</th>\n",
       "      <td>e_000002eae2a589</td>\n",
       "      <td>carioca manero</td>\n",
       "      <td>-22.907225306597013</td>\n",
       "      <td>-43.17824390023254</td>\n",
       "      <td>NaN</td>\n",
       "      <td>NaN</td>\n",
       "      <td>NaN</td>\n",
       "      <td>NaN</td>\n",
       "      <td>br</td>\n",
       "      <td>NaN</td>\n",
       "      <td>NaN</td>\n",
       "      <td>brazilian restaurants</td>\n",
       "      <td>p_d82910d8382a83</td>\n",
       "    </tr>\n",
       "    <tr>\n",
       "      <th>2</th>\n",
       "      <td>e_000007f24ebc95</td>\n",
       "      <td>ร้านตัดผมการาเกด</td>\n",
       "      <td>13.780813251617689</td>\n",
       "      <td>100.48489995223518</td>\n",
       "      <td>NaN</td>\n",
       "      <td>NaN</td>\n",
       "      <td>NaN</td>\n",
       "      <td>NaN</td>\n",
       "      <td>th</td>\n",
       "      <td>NaN</td>\n",
       "      <td>NaN</td>\n",
       "      <td>salons / barbershops</td>\n",
       "      <td>p_b1066599e78477</td>\n",
       "    </tr>\n",
       "  </tbody>\n",
       "</table>\n",
       "</div>\n",
       "      <button class=\"colab-df-convert\" onclick=\"convertToInteractive('df-415fa0ec-8f65-478f-b607-7be4ead8a84d')\"\n",
       "              title=\"Convert this dataframe to an interactive table.\"\n",
       "              style=\"display:none;\">\n",
       "        \n",
       "  <svg xmlns=\"http://www.w3.org/2000/svg\" height=\"24px\"viewBox=\"0 0 24 24\"\n",
       "       width=\"24px\">\n",
       "    <path d=\"M0 0h24v24H0V0z\" fill=\"none\"/>\n",
       "    <path d=\"M18.56 5.44l.94 2.06.94-2.06 2.06-.94-2.06-.94-.94-2.06-.94 2.06-2.06.94zm-11 1L8.5 8.5l.94-2.06 2.06-.94-2.06-.94L8.5 2.5l-.94 2.06-2.06.94zm10 10l.94 2.06.94-2.06 2.06-.94-2.06-.94-.94-2.06-.94 2.06-2.06.94z\"/><path d=\"M17.41 7.96l-1.37-1.37c-.4-.4-.92-.59-1.43-.59-.52 0-1.04.2-1.43.59L10.3 9.45l-7.72 7.72c-.78.78-.78 2.05 0 2.83L4 21.41c.39.39.9.59 1.41.59.51 0 1.02-.2 1.41-.59l7.78-7.78 2.81-2.81c.8-.78.8-2.07 0-2.86zM5.41 20L4 18.59l7.72-7.72 1.47 1.35L5.41 20z\"/>\n",
       "  </svg>\n",
       "      </button>\n",
       "      \n",
       "  <style>\n",
       "    .colab-df-container {\n",
       "      display:flex;\n",
       "      flex-wrap:wrap;\n",
       "      gap: 12px;\n",
       "    }\n",
       "\n",
       "    .colab-df-convert {\n",
       "      background-color: #E8F0FE;\n",
       "      border: none;\n",
       "      border-radius: 50%;\n",
       "      cursor: pointer;\n",
       "      display: none;\n",
       "      fill: #1967D2;\n",
       "      height: 32px;\n",
       "      padding: 0 0 0 0;\n",
       "      width: 32px;\n",
       "    }\n",
       "\n",
       "    .colab-df-convert:hover {\n",
       "      background-color: #E2EBFA;\n",
       "      box-shadow: 0px 1px 2px rgba(60, 64, 67, 0.3), 0px 1px 3px 1px rgba(60, 64, 67, 0.15);\n",
       "      fill: #174EA6;\n",
       "    }\n",
       "\n",
       "    [theme=dark] .colab-df-convert {\n",
       "      background-color: #3B4455;\n",
       "      fill: #D2E3FC;\n",
       "    }\n",
       "\n",
       "    [theme=dark] .colab-df-convert:hover {\n",
       "      background-color: #434B5C;\n",
       "      box-shadow: 0px 1px 3px 1px rgba(0, 0, 0, 0.15);\n",
       "      filter: drop-shadow(0px 1px 2px rgba(0, 0, 0, 0.3));\n",
       "      fill: #FFFFFF;\n",
       "    }\n",
       "  </style>\n",
       "\n",
       "      <script>\n",
       "        const buttonEl =\n",
       "          document.querySelector('#df-415fa0ec-8f65-478f-b607-7be4ead8a84d button.colab-df-convert');\n",
       "        buttonEl.style.display =\n",
       "          google.colab.kernel.accessAllowed ? 'block' : 'none';\n",
       "\n",
       "        async function convertToInteractive(key) {\n",
       "          const element = document.querySelector('#df-415fa0ec-8f65-478f-b607-7be4ead8a84d');\n",
       "          const dataTable =\n",
       "            await google.colab.kernel.invokeFunction('convertToInteractive',\n",
       "                                                     [key], {});\n",
       "          if (!dataTable) return;\n",
       "\n",
       "          const docLinkHtml = 'Like what you see? Visit the ' +\n",
       "            '<a target=\"_blank\" href=https://colab.research.google.com/notebooks/data_table.ipynb>data table notebook</a>'\n",
       "            + ' to learn more about interactive tables.';\n",
       "          element.innerHTML = '';\n",
       "          dataTable['output_type'] = 'display_data';\n",
       "          await google.colab.output.renderOutput(dataTable, element);\n",
       "          const docLink = document.createElement('div');\n",
       "          docLink.innerHTML = docLinkHtml;\n",
       "          element.appendChild(docLink);\n",
       "        }\n",
       "      </script>\n",
       "    </div>\n",
       "  </div>\n",
       "  "
      ],
      "text/plain": [
       "                 id                  name             latitude  \\\n",
       "0  e_000001272c6c5d  café stad oudenaarde    50.85997533509319   \n",
       "1  e_000002eae2a589        carioca manero  -22.907225306597013   \n",
       "2  e_000007f24ebc95      ร้านตัดผมการาเกด   13.780813251617689   \n",
       "\n",
       "            longitude      address        city            state   zip country  \\\n",
       "0  3.6341963487748346  abdijstraat  nederename  oost-vlaanderen  9700      be   \n",
       "1  -43.17824390023254          NaN         NaN              NaN   NaN      br   \n",
       "2  100.48489995223518          NaN         NaN              NaN   NaN      th   \n",
       "\n",
       "   url phone             categories point_of_interest  \n",
       "0  NaN   NaN                   bars  p_677e840bb6fc7e  \n",
       "1  NaN   NaN  brazilian restaurants  p_d82910d8382a83  \n",
       "2  NaN   NaN   salons / barbershops  p_b1066599e78477  "
      ]
     },
     "execution_count": 8,
     "metadata": {},
     "output_type": "execute_result"
    }
   ],
   "source": [
    "df_train.head(3)"
   ]
  },
  {
   "cell_type": "code",
   "execution_count": null,
   "metadata": {
    "colab": {
     "base_uri": "https://localhost:8080/",
     "height": 222
    },
    "id": "9vThElRlyerY",
    "outputId": "cbe05b7d-b905-4d2f-98d5-68c6b006caf5"
   },
   "outputs": [
    {
     "data": {
      "text/html": [
       "\n",
       "  <div id=\"df-1cb30162-c2e9-4ba0-961b-d1657cb83976\">\n",
       "    <div class=\"colab-df-container\">\n",
       "      <div>\n",
       "<style scoped>\n",
       "    .dataframe tbody tr th:only-of-type {\n",
       "        vertical-align: middle;\n",
       "    }\n",
       "\n",
       "    .dataframe tbody tr th {\n",
       "        vertical-align: top;\n",
       "    }\n",
       "\n",
       "    .dataframe thead th {\n",
       "        text-align: right;\n",
       "    }\n",
       "</style>\n",
       "<table border=\"1\" class=\"dataframe\">\n",
       "  <thead>\n",
       "    <tr style=\"text-align: right;\">\n",
       "      <th></th>\n",
       "      <th>id</th>\n",
       "      <th>name</th>\n",
       "      <th>latitude</th>\n",
       "      <th>longitude</th>\n",
       "      <th>address</th>\n",
       "      <th>city</th>\n",
       "      <th>state</th>\n",
       "      <th>zip</th>\n",
       "      <th>country</th>\n",
       "      <th>url</th>\n",
       "      <th>phone</th>\n",
       "      <th>categories</th>\n",
       "    </tr>\n",
       "  </thead>\n",
       "  <tbody>\n",
       "    <tr>\n",
       "      <th>0</th>\n",
       "      <td>e_00001118ad0191</td>\n",
       "      <td>jamu petani bagan serai</td>\n",
       "      <td>5.012169</td>\n",
       "      <td>100.535805</td>\n",
       "      <td>NaN</td>\n",
       "      <td>NaN</td>\n",
       "      <td>NaN</td>\n",
       "      <td>NaN</td>\n",
       "      <td>my</td>\n",
       "      <td>NaN</td>\n",
       "      <td>NaN</td>\n",
       "      <td>cafés</td>\n",
       "    </tr>\n",
       "    <tr>\n",
       "      <th>1</th>\n",
       "      <td>e_000020eb6fed40</td>\n",
       "      <td>johnny's bar</td>\n",
       "      <td>40.43420889065938</td>\n",
       "      <td>-80.56416034698486</td>\n",
       "      <td>497 n 12th st</td>\n",
       "      <td>weirton</td>\n",
       "      <td>wv</td>\n",
       "      <td>26062.0</td>\n",
       "      <td>us</td>\n",
       "      <td>NaN</td>\n",
       "      <td>NaN</td>\n",
       "      <td>bars</td>\n",
       "    </tr>\n",
       "    <tr>\n",
       "      <th>2</th>\n",
       "      <td>e_00002f98667edf</td>\n",
       "      <td>qiwi</td>\n",
       "      <td>47.215134</td>\n",
       "      <td>39.686088</td>\n",
       "      <td>межевая улица, 60</td>\n",
       "      <td>ростов-на-дону</td>\n",
       "      <td>NaN</td>\n",
       "      <td>NaN</td>\n",
       "      <td>ru</td>\n",
       "      <td>https://qiwi.com</td>\n",
       "      <td>78003011131.0</td>\n",
       "      <td>atms</td>\n",
       "    </tr>\n",
       "  </tbody>\n",
       "</table>\n",
       "</div>\n",
       "      <button class=\"colab-df-convert\" onclick=\"convertToInteractive('df-1cb30162-c2e9-4ba0-961b-d1657cb83976')\"\n",
       "              title=\"Convert this dataframe to an interactive table.\"\n",
       "              style=\"display:none;\">\n",
       "        \n",
       "  <svg xmlns=\"http://www.w3.org/2000/svg\" height=\"24px\"viewBox=\"0 0 24 24\"\n",
       "       width=\"24px\">\n",
       "    <path d=\"M0 0h24v24H0V0z\" fill=\"none\"/>\n",
       "    <path d=\"M18.56 5.44l.94 2.06.94-2.06 2.06-.94-2.06-.94-.94-2.06-.94 2.06-2.06.94zm-11 1L8.5 8.5l.94-2.06 2.06-.94-2.06-.94L8.5 2.5l-.94 2.06-2.06.94zm10 10l.94 2.06.94-2.06 2.06-.94-2.06-.94-.94-2.06-.94 2.06-2.06.94z\"/><path d=\"M17.41 7.96l-1.37-1.37c-.4-.4-.92-.59-1.43-.59-.52 0-1.04.2-1.43.59L10.3 9.45l-7.72 7.72c-.78.78-.78 2.05 0 2.83L4 21.41c.39.39.9.59 1.41.59.51 0 1.02-.2 1.41-.59l7.78-7.78 2.81-2.81c.8-.78.8-2.07 0-2.86zM5.41 20L4 18.59l7.72-7.72 1.47 1.35L5.41 20z\"/>\n",
       "  </svg>\n",
       "      </button>\n",
       "      \n",
       "  <style>\n",
       "    .colab-df-container {\n",
       "      display:flex;\n",
       "      flex-wrap:wrap;\n",
       "      gap: 12px;\n",
       "    }\n",
       "\n",
       "    .colab-df-convert {\n",
       "      background-color: #E8F0FE;\n",
       "      border: none;\n",
       "      border-radius: 50%;\n",
       "      cursor: pointer;\n",
       "      display: none;\n",
       "      fill: #1967D2;\n",
       "      height: 32px;\n",
       "      padding: 0 0 0 0;\n",
       "      width: 32px;\n",
       "    }\n",
       "\n",
       "    .colab-df-convert:hover {\n",
       "      background-color: #E2EBFA;\n",
       "      box-shadow: 0px 1px 2px rgba(60, 64, 67, 0.3), 0px 1px 3px 1px rgba(60, 64, 67, 0.15);\n",
       "      fill: #174EA6;\n",
       "    }\n",
       "\n",
       "    [theme=dark] .colab-df-convert {\n",
       "      background-color: #3B4455;\n",
       "      fill: #D2E3FC;\n",
       "    }\n",
       "\n",
       "    [theme=dark] .colab-df-convert:hover {\n",
       "      background-color: #434B5C;\n",
       "      box-shadow: 0px 1px 3px 1px rgba(0, 0, 0, 0.15);\n",
       "      filter: drop-shadow(0px 1px 2px rgba(0, 0, 0, 0.3));\n",
       "      fill: #FFFFFF;\n",
       "    }\n",
       "  </style>\n",
       "\n",
       "      <script>\n",
       "        const buttonEl =\n",
       "          document.querySelector('#df-1cb30162-c2e9-4ba0-961b-d1657cb83976 button.colab-df-convert');\n",
       "        buttonEl.style.display =\n",
       "          google.colab.kernel.accessAllowed ? 'block' : 'none';\n",
       "\n",
       "        async function convertToInteractive(key) {\n",
       "          const element = document.querySelector('#df-1cb30162-c2e9-4ba0-961b-d1657cb83976');\n",
       "          const dataTable =\n",
       "            await google.colab.kernel.invokeFunction('convertToInteractive',\n",
       "                                                     [key], {});\n",
       "          if (!dataTable) return;\n",
       "\n",
       "          const docLinkHtml = 'Like what you see? Visit the ' +\n",
       "            '<a target=\"_blank\" href=https://colab.research.google.com/notebooks/data_table.ipynb>data table notebook</a>'\n",
       "            + ' to learn more about interactive tables.';\n",
       "          element.innerHTML = '';\n",
       "          dataTable['output_type'] = 'display_data';\n",
       "          await google.colab.output.renderOutput(dataTable, element);\n",
       "          const docLink = document.createElement('div');\n",
       "          docLink.innerHTML = docLinkHtml;\n",
       "          element.appendChild(docLink);\n",
       "        }\n",
       "      </script>\n",
       "    </div>\n",
       "  </div>\n",
       "  "
      ],
      "text/plain": [
       "                 id                     name           latitude  \\\n",
       "0  e_00001118ad0191  jamu petani bagan serai           5.012169   \n",
       "1  e_000020eb6fed40             johnny's bar  40.43420889065938   \n",
       "2  e_00002f98667edf                     qiwi          47.215134   \n",
       "\n",
       "            longitude            address            city state      zip  \\\n",
       "0          100.535805                NaN             NaN   NaN      NaN   \n",
       "1  -80.56416034698486      497 n 12th st         weirton    wv  26062.0   \n",
       "2           39.686088  межевая улица, 60  ростов-на-дону   NaN      NaN   \n",
       "\n",
       "  country               url          phone categories  \n",
       "0      my               NaN            NaN      cafés  \n",
       "1      us               NaN            NaN       bars  \n",
       "2      ru  https://qiwi.com  78003011131.0       atms  "
      ]
     },
     "execution_count": 9,
     "metadata": {},
     "output_type": "execute_result"
    }
   ],
   "source": [
    "df_test.head(3)"
   ]
  },
  {
   "cell_type": "code",
   "execution_count": null,
   "metadata": {
    "colab": {
     "base_uri": "https://localhost:8080/"
    },
    "id": "09FRO-8216Xa",
    "outputId": "ff2a9b16-99dc-47ef-d82d-d9f10be722b8"
   },
   "outputs": [
    {
     "data": {
      "text/plain": [
       "id             0.0\n",
       "name           0.0\n",
       "latitude       0.0\n",
       "longitude      0.0\n",
       "address       40.0\n",
       "city          40.0\n",
       "state         60.0\n",
       "zip           60.0\n",
       "country        0.0\n",
       "url           80.0\n",
       "phone         80.0\n",
       "categories     0.0\n",
       "dtype: float64"
      ]
     },
     "execution_count": 10,
     "metadata": {},
     "output_type": "execute_result"
    }
   ],
   "source": [
    "(df_test.isna().sum()/len(df_test))*100"
   ]
  },
  {
   "cell_type": "code",
   "execution_count": null,
   "metadata": {
    "colab": {
     "base_uri": "https://localhost:8080/"
    },
    "id": "qxNdOn4O1VAi",
    "outputId": "d58d72a7-69b8-428a-b071-81f90cc02ede"
   },
   "outputs": [
    {
     "data": {
      "text/plain": [
       "id                    0.000000\n",
       "name                  0.000088\n",
       "latitude              0.000000\n",
       "longitude             0.000000\n",
       "address              34.827610\n",
       "city                 26.272027\n",
       "state                36.931996\n",
       "zip                  52.284837\n",
       "country               0.000966\n",
       "url                  76.490940\n",
       "phone                69.893626\n",
       "categories            8.632417\n",
       "point_of_interest     0.000000\n",
       "dtype: float64"
      ]
     },
     "execution_count": 11,
     "metadata": {},
     "output_type": "execute_result"
    }
   ],
   "source": [
    "(df_train.isnull().sum()/len(df_train))*100"
   ]
  },
  {
   "cell_type": "code",
   "execution_count": null,
   "metadata": {
    "colab": {
     "base_uri": "https://localhost:8080/"
    },
    "id": "eMp7oE0o1Vp9",
    "outputId": "9810e516-f13c-436a-b25b-d8d50af943de"
   },
   "outputs": [
    {
     "data": {
      "text/plain": [
       "id_1             0.000000\n",
       "name_1           0.000000\n",
       "latitude_1       0.000000\n",
       "longitude_1      0.000000\n",
       "address_1       17.882665\n",
       "city_1          11.397167\n",
       "state_1         21.867243\n",
       "zip_1           37.898661\n",
       "country_1        0.001382\n",
       "url_1           59.957990\n",
       "phone_1         53.356584\n",
       "categories_1     2.814614\n",
       "id_2             0.000000\n",
       "name_2           0.000000\n",
       "latitude_2       0.000000\n",
       "longitude_2      0.000000\n",
       "address_2       46.019482\n",
       "city_2          36.520028\n",
       "state_2         46.504534\n",
       "zip_2           61.163537\n",
       "country_2        0.001036\n",
       "url_2           85.343069\n",
       "phone_2         79.450413\n",
       "categories_2    13.124042\n",
       "match            0.000000\n",
       "dtype: float64"
      ]
     },
     "execution_count": 12,
     "metadata": {},
     "output_type": "execute_result"
    }
   ],
   "source": [
    "(df_pairs.isnull().sum()/len(df_pairs))*100"
   ]
  },
  {
   "cell_type": "code",
   "execution_count": null,
   "metadata": {
    "colab": {
     "base_uri": "https://localhost:8080/",
     "height": 267
    },
    "id": "2XLeBjP_5EKt",
    "outputId": "c28ab7e1-58e6-4cf4-dab1-6ad94eafe334"
   },
   "outputs": [
    {
     "name": "stdout",
     "output_type": "stream",
     "text": [
      "Unique Country Code 1 in Pairs: 214\n",
      "\n",
      "===== Top 10 Most Occuring Country Codes 1 =====\n"
     ]
    },
    {
     "data": {
      "text/plain": [
       "US    116083\n",
       "ID     68439\n",
       "TR     61462\n",
       "JP     34219\n",
       "TH     31619\n",
       "RU     30023\n",
       "MY     26713\n",
       "BR     23812\n",
       "BE     12543\n",
       "PH     12153\n",
       "Name: country_code_1, dtype: int64"
      ]
     },
     "metadata": {},
     "output_type": "display_data"
    }
   ],
   "source": [
    "def get_country_codes(coords):\n",
    "    data = reverse_geocode.search(coords)\n",
    "    return [v['country_code'] for v in data]\n",
    "\n",
    "df_train['country_code'] = get_country_codes(df_train[['latitude', 'longitude']])\n",
    "\n",
    "df_pairs['country_code_1'] = get_country_codes(df_pairs[['latitude_1', 'longitude_1']])\n",
    "df_pairs['country_code_2'] = get_country_codes(df_pairs[['latitude_2', 'longitude_2']])\n",
    "\n",
    "print(f'Unique Country Code 1 in Pairs: {df_pairs[\"country_code_1\"].nunique()}\\n')\n",
    "print('===== Top 10 Most Occuring Country Codes 1 =====')\n",
    "display(df_pairs['country_code_1'].value_counts(dropna=False).head(10))"
   ]
  },
  {
   "cell_type": "code",
   "execution_count": null,
   "metadata": {
    "colab": {
     "base_uri": "https://localhost:8080/",
     "height": 267
    },
    "id": "a6uXoF0r6NrB",
    "outputId": "ebcbc1f8-8c95-45f7-ead4-921dc5676714"
   },
   "outputs": [
    {
     "name": "stdout",
     "output_type": "stream",
     "text": [
      "Unique City Reverse Geocode 1 in Pairs: 31318\n",
      "\n",
      "===== Top 10 Most Occuring City Reverse Geocode 1 =====\n"
     ]
    },
    {
     "data": {
      "text/plain": [
       "Jakarta          13635\n",
       "Singapore         8969\n",
       "Tokyo             7500\n",
       "Bandung           7002\n",
       "Kuala Lumpur      5898\n",
       "Gramercy Park     3214\n",
       "Riyadh            2607\n",
       "Yongsan-dong      2594\n",
       "São Paulo         2493\n",
       "Medan             2460\n",
       "Name: city_rg_1, dtype: int64"
      ]
     },
     "metadata": {},
     "output_type": "display_data"
    }
   ],
   "source": [
    "def get_cities(coords):\n",
    "    data = reverse_geocode.search(coords)\n",
    "    return [v['city'] for v in data]\n",
    "\n",
    "df_train['city_rg'] = get_cities(df_train[['latitude', 'longitude']])\n",
    "    \n",
    "df_pairs['city_rg_1'] = get_cities(df_pairs[['latitude_1', 'longitude_1']])\n",
    "df_pairs['city_rg_2'] = get_cities(df_pairs[['latitude_2', 'longitude_2']])\n",
    "\n",
    "print(f'Unique City Reverse Geocode 1 in Pairs: {df_pairs[\"city_rg_1\"].nunique()}\\n')\n",
    "print('===== Top 10 Most Occuring City Reverse Geocode 1 =====')\n",
    "display(df_pairs['city_rg_1'].value_counts(dropna=False).head(10))"
   ]
  },
  {
   "cell_type": "code",
   "execution_count": null,
   "metadata": {
    "colab": {
     "base_uri": "https://localhost:8080/"
    },
    "id": "LoYoaOQQzd4a",
    "outputId": "e4399bd2-be0a-42ae-ad02-3ab307b8cbc2"
   },
   "outputs": [
    {
     "name": "stdout",
     "output_type": "stream",
     "text": [
      "0\n",
      "0\n"
     ]
    }
   ],
   "source": [
    "print(df_train[\"country_code\"].isna().sum())\n",
    "print(df_train[\"city_rg\"].isna().sum())"
   ]
  },
  {
   "cell_type": "code",
   "execution_count": null,
   "metadata": {
    "id": "RCZx11xL6Z1Z"
   },
   "outputs": [],
   "source": [
    "df_train['country_code'] = df_train['country_code'].str.lower()\n",
    "df_train['city_rg'] = df_train['city_rg'].str.lower()\n",
    "df_pairs['country_code_1'] = df_pairs['country_code_1'].str.lower()\n",
    "df_pairs['country_code_2'] = df_pairs['country_code_2'].str.lower()\n",
    "df_pairs['city_rg_1'] = df_pairs['city_rg_1'].str.lower()\n",
    "df_pairs['city_rg_2'] = df_pairs['city_rg_2'].str.lower()"
   ]
  },
  {
   "cell_type": "code",
   "execution_count": null,
   "metadata": {
    "id": "eUgOArsx9TQn"
   },
   "outputs": [],
   "source": [
    "obj_to_cat(df_train)\n",
    "obj_to_cat(df_pairs)"
   ]
  },
  {
   "cell_type": "code",
   "execution_count": null,
   "metadata": {
    "colab": {
     "base_uri": "https://localhost:8080/"
    },
    "id": "MToFOOxt26QE",
    "outputId": "c4b7b648-f301-44df-9df5-cd1a72b295cf"
   },
   "outputs": [
    {
     "data": {
      "text/plain": [
       "id_1               0.000000\n",
       "name_1             0.000000\n",
       "latitude_1         0.000000\n",
       "longitude_1        0.000000\n",
       "address_1         17.882665\n",
       "city_1            11.397167\n",
       "state_1           21.867243\n",
       "zip_1             37.898661\n",
       "country_1          0.001382\n",
       "url_1             59.957990\n",
       "phone_1           53.356584\n",
       "categories_1       2.814614\n",
       "id_2               0.000000\n",
       "name_2             0.000000\n",
       "latitude_2         0.000000\n",
       "longitude_2        0.000000\n",
       "address_2         46.019482\n",
       "city_2            36.520028\n",
       "state_2           46.504534\n",
       "zip_2             61.163537\n",
       "country_2          0.001036\n",
       "url_2             85.343069\n",
       "phone_2           79.450413\n",
       "categories_2      13.124042\n",
       "match              0.000000\n",
       "country_code_1     0.000000\n",
       "country_code_2     0.000000\n",
       "city_rg_1          0.000000\n",
       "city_rg_2          0.000000\n",
       "dtype: float64"
      ]
     },
     "execution_count": 18,
     "metadata": {},
     "output_type": "execute_result"
    }
   ],
   "source": [
    "(df_pairs.isna().sum()/len(df_pairs))*100"
   ]
  },
  {
   "cell_type": "code",
   "execution_count": null,
   "metadata": {
    "id": "ucG-oXDRGU00"
   },
   "outputs": [],
   "source": [
    "from pandas.api.types import union_categoricals\n",
    "\n",
    "union = union_categoricals([df_train.country_code, df_train.country]).categories\n",
    "\n",
    "df_train['country_code'] = df_train.country_code.cat.set_categories(union)\n",
    "df_train['country'] = df_train.country.cat.set_categories(union)"
   ]
  },
  {
   "cell_type": "code",
   "execution_count": null,
   "metadata": {
    "id": "5W_PDNu4HGlo"
   },
   "outputs": [],
   "source": [
    "df_train['is_equal'] = (df_train['country_code'] == df_train['country'])"
   ]
  },
  {
   "cell_type": "code",
   "execution_count": null,
   "metadata": {
    "colab": {
     "base_uri": "https://localhost:8080/"
    },
    "id": "_xXPEDrAHGap",
    "outputId": "b9fdf6ad-d22e-406d-84fb-aeef6d2e1998"
   },
   "outputs": [
    {
     "data": {
      "text/plain": [
       "array([ True, False])"
      ]
     },
     "execution_count": 49,
     "metadata": {},
     "output_type": "execute_result"
    }
   ],
   "source": [
    "df_train[\"is_equal\"].unique()"
   ]
  },
  {
   "cell_type": "code",
   "execution_count": null,
   "metadata": {
    "id": "V0ZC-kRbHru0"
   },
   "outputs": [],
   "source": [
    "result_df = df_train[df_train[\"is_equal\"] == False]"
   ]
  },
  {
   "cell_type": "code",
   "execution_count": null,
   "metadata": {
    "colab": {
     "base_uri": "https://localhost:8080/",
     "height": 809
    },
    "id": "s3CSs_fUHzQP",
    "outputId": "32a11681-6c81-4c16-ef56-c11662ed4509"
   },
   "outputs": [
    {
     "data": {
      "text/html": [
       "\n",
       "  <div id=\"df-a45b0d50-c811-4725-aec9-2eb1fd72d25b\">\n",
       "    <div class=\"colab-df-container\">\n",
       "      <div>\n",
       "<style scoped>\n",
       "    .dataframe tbody tr th:only-of-type {\n",
       "        vertical-align: middle;\n",
       "    }\n",
       "\n",
       "    .dataframe tbody tr th {\n",
       "        vertical-align: top;\n",
       "    }\n",
       "\n",
       "    .dataframe thead th {\n",
       "        text-align: right;\n",
       "    }\n",
       "</style>\n",
       "<table border=\"1\" class=\"dataframe\">\n",
       "  <thead>\n",
       "    <tr style=\"text-align: right;\">\n",
       "      <th></th>\n",
       "      <th>id</th>\n",
       "      <th>name</th>\n",
       "      <th>latitude</th>\n",
       "      <th>longitude</th>\n",
       "      <th>address</th>\n",
       "      <th>city</th>\n",
       "      <th>state</th>\n",
       "      <th>zip</th>\n",
       "      <th>country</th>\n",
       "      <th>url</th>\n",
       "      <th>phone</th>\n",
       "      <th>categories</th>\n",
       "      <th>point_of_interest</th>\n",
       "      <th>country_code</th>\n",
       "      <th>city_rg</th>\n",
       "      <th>is_equal</th>\n",
       "    </tr>\n",
       "  </thead>\n",
       "  <tbody>\n",
       "    <tr>\n",
       "      <th>36</th>\n",
       "      <td>e_00028abacfbca0</td>\n",
       "      <td>mill street brew</td>\n",
       "      <td>41.50697708129883</td>\n",
       "      <td>-83.14706420898438</td>\n",
       "      <td>169 mill street</td>\n",
       "      <td>oak harbor</td>\n",
       "      <td>oh</td>\n",
       "      <td>43449</td>\n",
       "      <td>us</td>\n",
       "      <td>NaN</td>\n",
       "      <td>4197070681</td>\n",
       "      <td>coffee shops</td>\n",
       "      <td>p_9fc94843d5dbcd</td>\n",
       "      <td>ca</td>\n",
       "      <td>amherstburg</td>\n",
       "      <td>False</td>\n",
       "    </tr>\n",
       "    <tr>\n",
       "      <th>270</th>\n",
       "      <td>e_00101807de9e99</td>\n",
       "      <td>chalet alabkal</td>\n",
       "      <td>28.63567538271121</td>\n",
       "      <td>48.39047312736511</td>\n",
       "      <td>NaN</td>\n",
       "      <td>NaN</td>\n",
       "      <td>NaN</td>\n",
       "      <td>NaN</td>\n",
       "      <td>kw</td>\n",
       "      <td>NaN</td>\n",
       "      <td>NaN</td>\n",
       "      <td>beaches</td>\n",
       "      <td>p_24639ebb65653a</td>\n",
       "      <td>sa</td>\n",
       "      <td>al khafjī</td>\n",
       "      <td>False</td>\n",
       "    </tr>\n",
       "    <tr>\n",
       "      <th>336</th>\n",
       "      <td>e_0014138afddd16</td>\n",
       "      <td>kohong blk 153 bukit batok st 11 #01-294</td>\n",
       "      <td>1.347253</td>\n",
       "      <td>103.74446956666668</td>\n",
       "      <td>NaN</td>\n",
       "      <td>NaN</td>\n",
       "      <td>NaN</td>\n",
       "      <td>NaN</td>\n",
       "      <td>sg</td>\n",
       "      <td>NaN</td>\n",
       "      <td>NaN</td>\n",
       "      <td>spas</td>\n",
       "      <td>p_7248a7e10a8cac</td>\n",
       "      <td>my</td>\n",
       "      <td>johor bahru</td>\n",
       "      <td>False</td>\n",
       "    </tr>\n",
       "    <tr>\n",
       "      <th>344</th>\n",
       "      <td>e_001499ba58ab09</td>\n",
       "      <td>blk 326 yishun ring</td>\n",
       "      <td>1.428799</td>\n",
       "      <td>103.840309</td>\n",
       "      <td>yishun ring road</td>\n",
       "      <td>singapore</td>\n",
       "      <td>singapore</td>\n",
       "      <td>NaN</td>\n",
       "      <td>sg</td>\n",
       "      <td>NaN</td>\n",
       "      <td>NaN</td>\n",
       "      <td>NaN</td>\n",
       "      <td>p_e7dcd2f4ba1489</td>\n",
       "      <td>my</td>\n",
       "      <td>kampung pasir gudang baru</td>\n",
       "      <td>False</td>\n",
       "    </tr>\n",
       "    <tr>\n",
       "      <th>380</th>\n",
       "      <td>e_001750bd8a2e4e</td>\n",
       "      <td>yes</td>\n",
       "      <td>-28.906755</td>\n",
       "      <td>88.559074</td>\n",
       "      <td>NaN</td>\n",
       "      <td>NaN</td>\n",
       "      <td>NaN</td>\n",
       "      <td>NaN</td>\n",
       "      <td>xx</td>\n",
       "      <td>NaN</td>\n",
       "      <td>NaN</td>\n",
       "      <td>NaN</td>\n",
       "      <td>p_6541223767ada1</td>\n",
       "      <td>cc</td>\n",
       "      <td>west island</td>\n",
       "      <td>False</td>\n",
       "    </tr>\n",
       "    <tr>\n",
       "      <th>476</th>\n",
       "      <td>e_001d7e7fd121cc</td>\n",
       "      <td>autofficina carli</td>\n",
       "      <td>45.591038</td>\n",
       "      <td>13.805947</td>\n",
       "      <td>via martinelli, 4</td>\n",
       "      <td>muggia</td>\n",
       "      <td>ts</td>\n",
       "      <td>34015</td>\n",
       "      <td>it</td>\n",
       "      <td>NaN</td>\n",
       "      <td>+390409235136</td>\n",
       "      <td>gas stations, automotive shops</td>\n",
       "      <td>p_9d884f7ba3c2a9</td>\n",
       "      <td>si</td>\n",
       "      <td>spodnje škofije</td>\n",
       "      <td>False</td>\n",
       "    </tr>\n",
       "    <tr>\n",
       "      <th>507</th>\n",
       "      <td>e_001f3bcb2310e9</td>\n",
       "      <td>buffalo marathon</td>\n",
       "      <td>42.889294</td>\n",
       "      <td>-78.877203</td>\n",
       "      <td>w huron st</td>\n",
       "      <td>buffalo</td>\n",
       "      <td>ny</td>\n",
       "      <td>14202</td>\n",
       "      <td>us</td>\n",
       "      <td>NaN</td>\n",
       "      <td>NaN</td>\n",
       "      <td>other events</td>\n",
       "      <td>p_95ebc362234c61</td>\n",
       "      <td>ca</td>\n",
       "      <td>fort erie</td>\n",
       "      <td>False</td>\n",
       "    </tr>\n",
       "    <tr>\n",
       "      <th>989</th>\n",
       "      <td>e_003c18f3788ed2</td>\n",
       "      <td>subway</td>\n",
       "      <td>42.31590854308647</td>\n",
       "      <td>-83.22375297546387</td>\n",
       "      <td>fc-309</td>\n",
       "      <td>dearborn</td>\n",
       "      <td>mi</td>\n",
       "      <td>48126</td>\n",
       "      <td>us</td>\n",
       "      <td>https://restaurants.subway.com/united-states/m...</td>\n",
       "      <td>3134250000</td>\n",
       "      <td>sandwich places, fast food restaurants, restau...</td>\n",
       "      <td>p_9f0a879c679347</td>\n",
       "      <td>ca</td>\n",
       "      <td>windsor</td>\n",
       "      <td>False</td>\n",
       "    </tr>\n",
       "    <tr>\n",
       "      <th>1053</th>\n",
       "      <td>e_003fed8ca33538</td>\n",
       "      <td>verizon authorized retailer - wireless zone</td>\n",
       "      <td>41.65404926942192</td>\n",
       "      <td>-83.6215401515392</td>\n",
       "      <td>1440 secor rd.</td>\n",
       "      <td>toledo</td>\n",
       "      <td>oh</td>\n",
       "      <td>43607</td>\n",
       "      <td>us</td>\n",
       "      <td>https://shop.wirelesszone.com/oh/toledo/1440-s...</td>\n",
       "      <td>+14195311444</td>\n",
       "      <td>mobile phone shops, electronics stores</td>\n",
       "      <td>p_d24e3cb8430f3f</td>\n",
       "      <td>ca</td>\n",
       "      <td>amherstburg</td>\n",
       "      <td>False</td>\n",
       "    </tr>\n",
       "    <tr>\n",
       "      <th>1143</th>\n",
       "      <td>e_0044e28f74a2e2</td>\n",
       "      <td>united isd natatorium</td>\n",
       "      <td>27.573575705091315</td>\n",
       "      <td>-99.48006678117332</td>\n",
       "      <td>NaN</td>\n",
       "      <td>laredo</td>\n",
       "      <td>tx</td>\n",
       "      <td>NaN</td>\n",
       "      <td>us</td>\n",
       "      <td>NaN</td>\n",
       "      <td>NaN</td>\n",
       "      <td>pools, swim schools</td>\n",
       "      <td>p_4c36571b77efb8</td>\n",
       "      <td>mx</td>\n",
       "      <td>nuevo laredo</td>\n",
       "      <td>False</td>\n",
       "    </tr>\n",
       "  </tbody>\n",
       "</table>\n",
       "</div>\n",
       "      <button class=\"colab-df-convert\" onclick=\"convertToInteractive('df-a45b0d50-c811-4725-aec9-2eb1fd72d25b')\"\n",
       "              title=\"Convert this dataframe to an interactive table.\"\n",
       "              style=\"display:none;\">\n",
       "        \n",
       "  <svg xmlns=\"http://www.w3.org/2000/svg\" height=\"24px\"viewBox=\"0 0 24 24\"\n",
       "       width=\"24px\">\n",
       "    <path d=\"M0 0h24v24H0V0z\" fill=\"none\"/>\n",
       "    <path d=\"M18.56 5.44l.94 2.06.94-2.06 2.06-.94-2.06-.94-.94-2.06-.94 2.06-2.06.94zm-11 1L8.5 8.5l.94-2.06 2.06-.94-2.06-.94L8.5 2.5l-.94 2.06-2.06.94zm10 10l.94 2.06.94-2.06 2.06-.94-2.06-.94-.94-2.06-.94 2.06-2.06.94z\"/><path d=\"M17.41 7.96l-1.37-1.37c-.4-.4-.92-.59-1.43-.59-.52 0-1.04.2-1.43.59L10.3 9.45l-7.72 7.72c-.78.78-.78 2.05 0 2.83L4 21.41c.39.39.9.59 1.41.59.51 0 1.02-.2 1.41-.59l7.78-7.78 2.81-2.81c.8-.78.8-2.07 0-2.86zM5.41 20L4 18.59l7.72-7.72 1.47 1.35L5.41 20z\"/>\n",
       "  </svg>\n",
       "      </button>\n",
       "      \n",
       "  <style>\n",
       "    .colab-df-container {\n",
       "      display:flex;\n",
       "      flex-wrap:wrap;\n",
       "      gap: 12px;\n",
       "    }\n",
       "\n",
       "    .colab-df-convert {\n",
       "      background-color: #E8F0FE;\n",
       "      border: none;\n",
       "      border-radius: 50%;\n",
       "      cursor: pointer;\n",
       "      display: none;\n",
       "      fill: #1967D2;\n",
       "      height: 32px;\n",
       "      padding: 0 0 0 0;\n",
       "      width: 32px;\n",
       "    }\n",
       "\n",
       "    .colab-df-convert:hover {\n",
       "      background-color: #E2EBFA;\n",
       "      box-shadow: 0px 1px 2px rgba(60, 64, 67, 0.3), 0px 1px 3px 1px rgba(60, 64, 67, 0.15);\n",
       "      fill: #174EA6;\n",
       "    }\n",
       "\n",
       "    [theme=dark] .colab-df-convert {\n",
       "      background-color: #3B4455;\n",
       "      fill: #D2E3FC;\n",
       "    }\n",
       "\n",
       "    [theme=dark] .colab-df-convert:hover {\n",
       "      background-color: #434B5C;\n",
       "      box-shadow: 0px 1px 3px 1px rgba(0, 0, 0, 0.15);\n",
       "      filter: drop-shadow(0px 1px 2px rgba(0, 0, 0, 0.3));\n",
       "      fill: #FFFFFF;\n",
       "    }\n",
       "  </style>\n",
       "\n",
       "      <script>\n",
       "        const buttonEl =\n",
       "          document.querySelector('#df-a45b0d50-c811-4725-aec9-2eb1fd72d25b button.colab-df-convert');\n",
       "        buttonEl.style.display =\n",
       "          google.colab.kernel.accessAllowed ? 'block' : 'none';\n",
       "\n",
       "        async function convertToInteractive(key) {\n",
       "          const element = document.querySelector('#df-a45b0d50-c811-4725-aec9-2eb1fd72d25b');\n",
       "          const dataTable =\n",
       "            await google.colab.kernel.invokeFunction('convertToInteractive',\n",
       "                                                     [key], {});\n",
       "          if (!dataTable) return;\n",
       "\n",
       "          const docLinkHtml = 'Like what you see? Visit the ' +\n",
       "            '<a target=\"_blank\" href=https://colab.research.google.com/notebooks/data_table.ipynb>data table notebook</a>'\n",
       "            + ' to learn more about interactive tables.';\n",
       "          element.innerHTML = '';\n",
       "          dataTable['output_type'] = 'display_data';\n",
       "          await google.colab.output.renderOutput(dataTable, element);\n",
       "          const docLink = document.createElement('div');\n",
       "          docLink.innerHTML = docLinkHtml;\n",
       "          element.appendChild(docLink);\n",
       "        }\n",
       "      </script>\n",
       "    </div>\n",
       "  </div>\n",
       "  "
      ],
      "text/plain": [
       "                    id                                         name  \\\n",
       "36    e_00028abacfbca0                             mill street brew   \n",
       "270   e_00101807de9e99                               chalet alabkal   \n",
       "336   e_0014138afddd16     kohong blk 153 bukit batok st 11 #01-294   \n",
       "344   e_001499ba58ab09                          blk 326 yishun ring   \n",
       "380   e_001750bd8a2e4e                                          yes   \n",
       "476   e_001d7e7fd121cc                            autofficina carli   \n",
       "507   e_001f3bcb2310e9                             buffalo marathon   \n",
       "989   e_003c18f3788ed2                                       subway   \n",
       "1053  e_003fed8ca33538  verizon authorized retailer - wireless zone   \n",
       "1143  e_0044e28f74a2e2                        united isd natatorium   \n",
       "\n",
       "                latitude           longitude            address        city  \\\n",
       "36     41.50697708129883  -83.14706420898438    169 mill street  oak harbor   \n",
       "270    28.63567538271121   48.39047312736511                NaN         NaN   \n",
       "336             1.347253  103.74446956666668                NaN         NaN   \n",
       "344             1.428799          103.840309   yishun ring road   singapore   \n",
       "380           -28.906755           88.559074                NaN         NaN   \n",
       "476            45.591038           13.805947  via martinelli, 4      muggia   \n",
       "507            42.889294          -78.877203         w huron st     buffalo   \n",
       "989    42.31590854308647  -83.22375297546387             fc-309    dearborn   \n",
       "1053   41.65404926942192   -83.6215401515392     1440 secor rd.      toledo   \n",
       "1143  27.573575705091315  -99.48006678117332                NaN      laredo   \n",
       "\n",
       "          state    zip country  \\\n",
       "36           oh  43449      us   \n",
       "270         NaN    NaN      kw   \n",
       "336         NaN    NaN      sg   \n",
       "344   singapore    NaN      sg   \n",
       "380         NaN    NaN      xx   \n",
       "476          ts  34015      it   \n",
       "507          ny  14202      us   \n",
       "989          mi  48126      us   \n",
       "1053         oh  43607      us   \n",
       "1143         tx    NaN      us   \n",
       "\n",
       "                                                    url          phone  \\\n",
       "36                                                  NaN     4197070681   \n",
       "270                                                 NaN            NaN   \n",
       "336                                                 NaN            NaN   \n",
       "344                                                 NaN            NaN   \n",
       "380                                                 NaN            NaN   \n",
       "476                                                 NaN  +390409235136   \n",
       "507                                                 NaN            NaN   \n",
       "989   https://restaurants.subway.com/united-states/m...     3134250000   \n",
       "1053  https://shop.wirelesszone.com/oh/toledo/1440-s...   +14195311444   \n",
       "1143                                                NaN            NaN   \n",
       "\n",
       "                                             categories point_of_interest  \\\n",
       "36                                         coffee shops  p_9fc94843d5dbcd   \n",
       "270                                             beaches  p_24639ebb65653a   \n",
       "336                                                spas  p_7248a7e10a8cac   \n",
       "344                                                 NaN  p_e7dcd2f4ba1489   \n",
       "380                                                 NaN  p_6541223767ada1   \n",
       "476                      gas stations, automotive shops  p_9d884f7ba3c2a9   \n",
       "507                                        other events  p_95ebc362234c61   \n",
       "989   sandwich places, fast food restaurants, restau...  p_9f0a879c679347   \n",
       "1053             mobile phone shops, electronics stores  p_d24e3cb8430f3f   \n",
       "1143                                pools, swim schools  p_4c36571b77efb8   \n",
       "\n",
       "     country_code                    city_rg  is_equal  \n",
       "36             ca                amherstburg     False  \n",
       "270            sa                  al khafjī     False  \n",
       "336            my                johor bahru     False  \n",
       "344            my  kampung pasir gudang baru     False  \n",
       "380            cc                west island     False  \n",
       "476            si            spodnje škofije     False  \n",
       "507            ca                  fort erie     False  \n",
       "989            ca                    windsor     False  \n",
       "1053           ca                amherstburg     False  \n",
       "1143           mx               nuevo laredo     False  "
      ]
     },
     "execution_count": 53,
     "metadata": {},
     "output_type": "execute_result"
    }
   ],
   "source": [
    "result_df.head(10)"
   ]
  },
  {
   "cell_type": "code",
   "execution_count": null,
   "metadata": {
    "colab": {
     "base_uri": "https://localhost:8080/"
    },
    "id": "K7xgjiMNIZgd",
    "outputId": "33b09651-4f28-4f87-f9c4-756a2e95c951"
   },
   "outputs": [
    {
     "data": {
      "text/plain": [
       "id                        0\n",
       "name                      1\n",
       "latitude                  0\n",
       "longitude                 0\n",
       "address              396621\n",
       "city                 299189\n",
       "state                420586\n",
       "zip                  595426\n",
       "country                  11\n",
       "url                  871088\n",
       "phone                795957\n",
       "categories            98307\n",
       "point_of_interest         0\n",
       "country_code              0\n",
       "city_rg                   0\n",
       "is_equal                  0\n",
       "dtype: int64"
      ]
     },
     "execution_count": 52,
     "metadata": {},
     "output_type": "execute_result"
    }
   ],
   "source": [
    "df_train.isna().sum()"
   ]
  },
  {
   "cell_type": "code",
   "execution_count": null,
   "metadata": {
    "colab": {
     "base_uri": "https://localhost:8080/",
     "height": 757
    },
    "id": "GOTP_7BbHY_4",
    "outputId": "195b4f8d-0f8e-4646-8f42-d54faf7cadb4"
   },
   "outputs": [
    {
     "data": {
      "text/html": [
       "\n",
       "  <div id=\"df-8a62fc68-9ab4-42b2-91f4-a5d75ee00231\">\n",
       "    <div class=\"colab-df-container\">\n",
       "      <div>\n",
       "<style scoped>\n",
       "    .dataframe tbody tr th:only-of-type {\n",
       "        vertical-align: middle;\n",
       "    }\n",
       "\n",
       "    .dataframe tbody tr th {\n",
       "        vertical-align: top;\n",
       "    }\n",
       "\n",
       "    .dataframe thead th {\n",
       "        text-align: right;\n",
       "    }\n",
       "</style>\n",
       "<table border=\"1\" class=\"dataframe\">\n",
       "  <thead>\n",
       "    <tr style=\"text-align: right;\">\n",
       "      <th></th>\n",
       "      <th>id</th>\n",
       "      <th>name</th>\n",
       "      <th>latitude</th>\n",
       "      <th>longitude</th>\n",
       "      <th>address</th>\n",
       "      <th>city</th>\n",
       "      <th>state</th>\n",
       "      <th>zip</th>\n",
       "      <th>country</th>\n",
       "      <th>url</th>\n",
       "      <th>phone</th>\n",
       "      <th>categories</th>\n",
       "      <th>point_of_interest</th>\n",
       "      <th>country_code</th>\n",
       "      <th>city_rg</th>\n",
       "      <th>is_equal</th>\n",
       "    </tr>\n",
       "  </thead>\n",
       "  <tbody>\n",
       "    <tr>\n",
       "      <th>0</th>\n",
       "      <td>e_000001272c6c5d</td>\n",
       "      <td>café stad oudenaarde</td>\n",
       "      <td>50.85997533509319</td>\n",
       "      <td>3.6341963487748346</td>\n",
       "      <td>abdijstraat</td>\n",
       "      <td>nederename</td>\n",
       "      <td>oost-vlaanderen</td>\n",
       "      <td>9700</td>\n",
       "      <td>be</td>\n",
       "      <td>NaN</td>\n",
       "      <td>NaN</td>\n",
       "      <td>bars</td>\n",
       "      <td>p_677e840bb6fc7e</td>\n",
       "      <td>be</td>\n",
       "      <td>oudenaarde</td>\n",
       "      <td>True</td>\n",
       "    </tr>\n",
       "    <tr>\n",
       "      <th>1</th>\n",
       "      <td>e_000002eae2a589</td>\n",
       "      <td>carioca manero</td>\n",
       "      <td>-22.907225306597013</td>\n",
       "      <td>-43.17824390023254</td>\n",
       "      <td>NaN</td>\n",
       "      <td>NaN</td>\n",
       "      <td>NaN</td>\n",
       "      <td>NaN</td>\n",
       "      <td>br</td>\n",
       "      <td>NaN</td>\n",
       "      <td>NaN</td>\n",
       "      <td>brazilian restaurants</td>\n",
       "      <td>p_d82910d8382a83</td>\n",
       "      <td>br</td>\n",
       "      <td>rio de janeiro</td>\n",
       "      <td>True</td>\n",
       "    </tr>\n",
       "    <tr>\n",
       "      <th>2</th>\n",
       "      <td>e_000007f24ebc95</td>\n",
       "      <td>ร้านตัดผมการาเกด</td>\n",
       "      <td>13.780813251617689</td>\n",
       "      <td>100.48489995223518</td>\n",
       "      <td>NaN</td>\n",
       "      <td>NaN</td>\n",
       "      <td>NaN</td>\n",
       "      <td>NaN</td>\n",
       "      <td>th</td>\n",
       "      <td>NaN</td>\n",
       "      <td>NaN</td>\n",
       "      <td>salons / barbershops</td>\n",
       "      <td>p_b1066599e78477</td>\n",
       "      <td>th</td>\n",
       "      <td>bangkok noi</td>\n",
       "      <td>True</td>\n",
       "    </tr>\n",
       "    <tr>\n",
       "      <th>3</th>\n",
       "      <td>e_000008a8ba4f48</td>\n",
       "      <td>turkcell</td>\n",
       "      <td>37.84451021530735</td>\n",
       "      <td>27.84420157619721</td>\n",
       "      <td>adnan menderes bulvarı</td>\n",
       "      <td>NaN</td>\n",
       "      <td>NaN</td>\n",
       "      <td>NaN</td>\n",
       "      <td>tr</td>\n",
       "      <td>NaN</td>\n",
       "      <td>NaN</td>\n",
       "      <td>mobile phone shops</td>\n",
       "      <td>p_b2ed86905a4cd3</td>\n",
       "      <td>tr</td>\n",
       "      <td>aydın</td>\n",
       "      <td>True</td>\n",
       "    </tr>\n",
       "    <tr>\n",
       "      <th>4</th>\n",
       "      <td>e_00001d92066153</td>\n",
       "      <td>restaurante casa cofiño</td>\n",
       "      <td>43.338196</td>\n",
       "      <td>-4.326821</td>\n",
       "      <td>NaN</td>\n",
       "      <td>caviedes</td>\n",
       "      <td>cantabria</td>\n",
       "      <td>NaN</td>\n",
       "      <td>es</td>\n",
       "      <td>NaN</td>\n",
       "      <td>NaN</td>\n",
       "      <td>spanish restaurants</td>\n",
       "      <td>p_809a884d4407fb</td>\n",
       "      <td>es</td>\n",
       "      <td>comillas</td>\n",
       "      <td>True</td>\n",
       "    </tr>\n",
       "    <tr>\n",
       "      <th>5</th>\n",
       "      <td>e_000023d8f4be44</td>\n",
       "      <td>island spa</td>\n",
       "      <td>14.518969876756294</td>\n",
       "      <td>121.01870186448409</td>\n",
       "      <td>5th flr, newport mall, resorts world manila</td>\n",
       "      <td>pasay city</td>\n",
       "      <td>metro manila</td>\n",
       "      <td>NaN</td>\n",
       "      <td>ph</td>\n",
       "      <td>NaN</td>\n",
       "      <td>NaN</td>\n",
       "      <td>spas</td>\n",
       "      <td>p_020de174484ec6</td>\n",
       "      <td>ph</td>\n",
       "      <td>pasay</td>\n",
       "      <td>True</td>\n",
       "    </tr>\n",
       "    <tr>\n",
       "      <th>6</th>\n",
       "      <td>e_00002a131a2bf6</td>\n",
       "      <td>ministry of youth</td>\n",
       "      <td>29.36435235908348</td>\n",
       "      <td>47.97136230015956</td>\n",
       "      <td>NaN</td>\n",
       "      <td>NaN</td>\n",
       "      <td>NaN</td>\n",
       "      <td>NaN</td>\n",
       "      <td>kw</td>\n",
       "      <td>NaN</td>\n",
       "      <td>NaN</td>\n",
       "      <td>capitol buildings</td>\n",
       "      <td>p_9e4e64be602c35</td>\n",
       "      <td>kw</td>\n",
       "      <td>kuwait city</td>\n",
       "      <td>True</td>\n",
       "    </tr>\n",
       "    <tr>\n",
       "      <th>7</th>\n",
       "      <td>e_0000764d65557e</td>\n",
       "      <td>mcdonald's</td>\n",
       "      <td>-7.265894412994385</td>\n",
       "      <td>112.74938201904295</td>\n",
       "      <td>plaza surabaya, pemuda building</td>\n",
       "      <td>NaN</td>\n",
       "      <td>NaN</td>\n",
       "      <td>NaN</td>\n",
       "      <td>id</td>\n",
       "      <td>NaN</td>\n",
       "      <td>NaN</td>\n",
       "      <td>fast food restaurants</td>\n",
       "      <td>p_be89c778befb23</td>\n",
       "      <td>id</td>\n",
       "      <td>gubengairlangga</td>\n",
       "      <td>True</td>\n",
       "    </tr>\n",
       "    <tr>\n",
       "      <th>8</th>\n",
       "      <td>e_00007dcd2bb53f</td>\n",
       "      <td>togo's sandwiches</td>\n",
       "      <td>38.25779696430681</td>\n",
       "      <td>-122.06459937900875</td>\n",
       "      <td>1380 holiday ln., ste. b</td>\n",
       "      <td>fairfield</td>\n",
       "      <td>ca</td>\n",
       "      <td>94534</td>\n",
       "      <td>us</td>\n",
       "      <td>https://locations.togos.com/ll/us/ca/fairfield...</td>\n",
       "      <td>7074394747</td>\n",
       "      <td>sandwich places</td>\n",
       "      <td>p_aae7505da98d46</td>\n",
       "      <td>us</td>\n",
       "      <td>fairfield</td>\n",
       "      <td>True</td>\n",
       "    </tr>\n",
       "    <tr>\n",
       "      <th>9</th>\n",
       "      <td>e_0000890af22ff5</td>\n",
       "      <td>flohmarkt am rathaus steglitz</td>\n",
       "      <td>52.4570449854665</td>\n",
       "      <td>13.32247549214842</td>\n",
       "      <td>NaN</td>\n",
       "      <td>NaN</td>\n",
       "      <td>NaN</td>\n",
       "      <td>NaN</td>\n",
       "      <td>de</td>\n",
       "      <td>NaN</td>\n",
       "      <td>NaN</td>\n",
       "      <td>flea markets</td>\n",
       "      <td>p_b6bbe6a8990f34</td>\n",
       "      <td>de</td>\n",
       "      <td>steglitz</td>\n",
       "      <td>True</td>\n",
       "    </tr>\n",
       "  </tbody>\n",
       "</table>\n",
       "</div>\n",
       "      <button class=\"colab-df-convert\" onclick=\"convertToInteractive('df-8a62fc68-9ab4-42b2-91f4-a5d75ee00231')\"\n",
       "              title=\"Convert this dataframe to an interactive table.\"\n",
       "              style=\"display:none;\">\n",
       "        \n",
       "  <svg xmlns=\"http://www.w3.org/2000/svg\" height=\"24px\"viewBox=\"0 0 24 24\"\n",
       "       width=\"24px\">\n",
       "    <path d=\"M0 0h24v24H0V0z\" fill=\"none\"/>\n",
       "    <path d=\"M18.56 5.44l.94 2.06.94-2.06 2.06-.94-2.06-.94-.94-2.06-.94 2.06-2.06.94zm-11 1L8.5 8.5l.94-2.06 2.06-.94-2.06-.94L8.5 2.5l-.94 2.06-2.06.94zm10 10l.94 2.06.94-2.06 2.06-.94-2.06-.94-.94-2.06-.94 2.06-2.06.94z\"/><path d=\"M17.41 7.96l-1.37-1.37c-.4-.4-.92-.59-1.43-.59-.52 0-1.04.2-1.43.59L10.3 9.45l-7.72 7.72c-.78.78-.78 2.05 0 2.83L4 21.41c.39.39.9.59 1.41.59.51 0 1.02-.2 1.41-.59l7.78-7.78 2.81-2.81c.8-.78.8-2.07 0-2.86zM5.41 20L4 18.59l7.72-7.72 1.47 1.35L5.41 20z\"/>\n",
       "  </svg>\n",
       "      </button>\n",
       "      \n",
       "  <style>\n",
       "    .colab-df-container {\n",
       "      display:flex;\n",
       "      flex-wrap:wrap;\n",
       "      gap: 12px;\n",
       "    }\n",
       "\n",
       "    .colab-df-convert {\n",
       "      background-color: #E8F0FE;\n",
       "      border: none;\n",
       "      border-radius: 50%;\n",
       "      cursor: pointer;\n",
       "      display: none;\n",
       "      fill: #1967D2;\n",
       "      height: 32px;\n",
       "      padding: 0 0 0 0;\n",
       "      width: 32px;\n",
       "    }\n",
       "\n",
       "    .colab-df-convert:hover {\n",
       "      background-color: #E2EBFA;\n",
       "      box-shadow: 0px 1px 2px rgba(60, 64, 67, 0.3), 0px 1px 3px 1px rgba(60, 64, 67, 0.15);\n",
       "      fill: #174EA6;\n",
       "    }\n",
       "\n",
       "    [theme=dark] .colab-df-convert {\n",
       "      background-color: #3B4455;\n",
       "      fill: #D2E3FC;\n",
       "    }\n",
       "\n",
       "    [theme=dark] .colab-df-convert:hover {\n",
       "      background-color: #434B5C;\n",
       "      box-shadow: 0px 1px 3px 1px rgba(0, 0, 0, 0.15);\n",
       "      filter: drop-shadow(0px 1px 2px rgba(0, 0, 0, 0.3));\n",
       "      fill: #FFFFFF;\n",
       "    }\n",
       "  </style>\n",
       "\n",
       "      <script>\n",
       "        const buttonEl =\n",
       "          document.querySelector('#df-8a62fc68-9ab4-42b2-91f4-a5d75ee00231 button.colab-df-convert');\n",
       "        buttonEl.style.display =\n",
       "          google.colab.kernel.accessAllowed ? 'block' : 'none';\n",
       "\n",
       "        async function convertToInteractive(key) {\n",
       "          const element = document.querySelector('#df-8a62fc68-9ab4-42b2-91f4-a5d75ee00231');\n",
       "          const dataTable =\n",
       "            await google.colab.kernel.invokeFunction('convertToInteractive',\n",
       "                                                     [key], {});\n",
       "          if (!dataTable) return;\n",
       "\n",
       "          const docLinkHtml = 'Like what you see? Visit the ' +\n",
       "            '<a target=\"_blank\" href=https://colab.research.google.com/notebooks/data_table.ipynb>data table notebook</a>'\n",
       "            + ' to learn more about interactive tables.';\n",
       "          element.innerHTML = '';\n",
       "          dataTable['output_type'] = 'display_data';\n",
       "          await google.colab.output.renderOutput(dataTable, element);\n",
       "          const docLink = document.createElement('div');\n",
       "          docLink.innerHTML = docLinkHtml;\n",
       "          element.appendChild(docLink);\n",
       "        }\n",
       "      </script>\n",
       "    </div>\n",
       "  </div>\n",
       "  "
      ],
      "text/plain": [
       "                 id                           name             latitude  \\\n",
       "0  e_000001272c6c5d           café stad oudenaarde    50.85997533509319   \n",
       "1  e_000002eae2a589                 carioca manero  -22.907225306597013   \n",
       "2  e_000007f24ebc95               ร้านตัดผมการาเกด   13.780813251617689   \n",
       "3  e_000008a8ba4f48                       turkcell    37.84451021530735   \n",
       "4  e_00001d92066153        restaurante casa cofiño            43.338196   \n",
       "5  e_000023d8f4be44                     island spa   14.518969876756294   \n",
       "6  e_00002a131a2bf6              ministry of youth    29.36435235908348   \n",
       "7  e_0000764d65557e                     mcdonald's   -7.265894412994385   \n",
       "8  e_00007dcd2bb53f              togo's sandwiches    38.25779696430681   \n",
       "9  e_0000890af22ff5  flohmarkt am rathaus steglitz     52.4570449854665   \n",
       "\n",
       "             longitude                                      address  \\\n",
       "0   3.6341963487748346                                  abdijstraat   \n",
       "1   -43.17824390023254                                          NaN   \n",
       "2   100.48489995223518                                          NaN   \n",
       "3    27.84420157619721                       adnan menderes bulvarı   \n",
       "4            -4.326821                                          NaN   \n",
       "5   121.01870186448409  5th flr, newport mall, resorts world manila   \n",
       "6    47.97136230015956                                          NaN   \n",
       "7   112.74938201904295              plaza surabaya, pemuda building   \n",
       "8  -122.06459937900875                     1380 holiday ln., ste. b   \n",
       "9    13.32247549214842                                          NaN   \n",
       "\n",
       "         city            state    zip country  \\\n",
       "0  nederename  oost-vlaanderen   9700      be   \n",
       "1         NaN              NaN    NaN      br   \n",
       "2         NaN              NaN    NaN      th   \n",
       "3         NaN              NaN    NaN      tr   \n",
       "4    caviedes        cantabria    NaN      es   \n",
       "5  pasay city     metro manila    NaN      ph   \n",
       "6         NaN              NaN    NaN      kw   \n",
       "7         NaN              NaN    NaN      id   \n",
       "8   fairfield               ca  94534      us   \n",
       "9         NaN              NaN    NaN      de   \n",
       "\n",
       "                                                 url       phone  \\\n",
       "0                                                NaN         NaN   \n",
       "1                                                NaN         NaN   \n",
       "2                                                NaN         NaN   \n",
       "3                                                NaN         NaN   \n",
       "4                                                NaN         NaN   \n",
       "5                                                NaN         NaN   \n",
       "6                                                NaN         NaN   \n",
       "7                                                NaN         NaN   \n",
       "8  https://locations.togos.com/ll/us/ca/fairfield...  7074394747   \n",
       "9                                                NaN         NaN   \n",
       "\n",
       "              categories point_of_interest country_code          city_rg  \\\n",
       "0                   bars  p_677e840bb6fc7e           be       oudenaarde   \n",
       "1  brazilian restaurants  p_d82910d8382a83           br   rio de janeiro   \n",
       "2   salons / barbershops  p_b1066599e78477           th      bangkok noi   \n",
       "3     mobile phone shops  p_b2ed86905a4cd3           tr            aydın   \n",
       "4    spanish restaurants  p_809a884d4407fb           es         comillas   \n",
       "5                   spas  p_020de174484ec6           ph            pasay   \n",
       "6      capitol buildings  p_9e4e64be602c35           kw      kuwait city   \n",
       "7  fast food restaurants  p_be89c778befb23           id  gubengairlangga   \n",
       "8        sandwich places  p_aae7505da98d46           us        fairfield   \n",
       "9           flea markets  p_b6bbe6a8990f34           de         steglitz   \n",
       "\n",
       "   is_equal  \n",
       "0      True  \n",
       "1      True  \n",
       "2      True  \n",
       "3      True  \n",
       "4      True  \n",
       "5      True  \n",
       "6      True  \n",
       "7      True  \n",
       "8      True  \n",
       "9      True  "
      ]
     },
     "execution_count": 43,
     "metadata": {},
     "output_type": "execute_result"
    }
   ],
   "source": [
    "df_train.head(10)"
   ]
  },
  {
   "cell_type": "code",
   "execution_count": null,
   "metadata": {
    "id": "W4T8FnlVgL37"
   },
   "outputs": [],
   "source": [
    "#df_train.drop([\"zip\", \"url\",\"phone\"], axis=1)"
   ]
  },
  {
   "cell_type": "code",
   "execution_count": null,
   "metadata": {
    "id": "Mh1XgggEe5bf"
   },
   "outputs": [],
   "source": [
    "#df_train.fillna(\"unknown\")"
   ]
  },
  {
   "cell_type": "code",
   "execution_count": null,
   "metadata": {
    "id": "SHf6TkIKhCFu"
   },
   "outputs": [],
   "source": [
    "#df_pairs = df_pairs.drop([\"zip_1\", \"url_1\", \"phone_1\", \"zip_2\", \"url_2\", \"phone_2\"], axis=1)"
   ]
  },
  {
   "cell_type": "code",
   "execution_count": null,
   "metadata": {
    "id": "lRcFh3tzhatx"
   },
   "outputs": [],
   "source": [
    "#df_pairs = df_pairs.fillna(\"Unknown\")"
   ]
  },
  {
   "cell_type": "code",
   "execution_count": null,
   "metadata": {
    "colab": {
     "base_uri": "https://localhost:8080/",
     "height": 267
    },
    "id": "kRu66aBddX_q",
    "outputId": "c411888d-ae99-41b2-c1ab-8eefb2a26a0f"
   },
   "outputs": [
    {
     "name": "stdout",
     "output_type": "stream",
     "text": [
      "Unique Names in Train: 817308\n",
      "\n",
      "===== Top 10 Most Occuring Names =====\n"
     ]
    },
    {
     "data": {
      "text/plain": [
       "starbucks             0.005003\n",
       "mcdonald's            0.003026\n",
       "redbox                0.002808\n",
       "subway                0.002441\n",
       "7-eleven              0.001788\n",
       "payless shoesource    0.001719\n",
       "kfc                   0.001581\n",
       "burger king           0.001323\n",
       "shell                 0.001149\n",
       "pizza hut             0.000947\n",
       "Name: name, dtype: float64"
      ]
     },
     "metadata": {},
     "output_type": "display_data"
    }
   ],
   "source": [
    "# Most common names are fast food restaurants\n",
    "print(f'Unique Names in Train: {df_train[\"name\"].nunique()}\\n')\n",
    "print('===== Top 10 Most Occuring Names =====')\n",
    "display(df_train['name'].value_counts(dropna=False, normalize=True).head(10))"
   ]
  },
  {
   "cell_type": "code",
   "execution_count": null,
   "metadata": {
    "id": "ysW5Q_UuM2KT"
   },
   "outputs": [],
   "source": [
    "#Splitting the pairs data\n",
    "from sklearn.metrics import accuracy_score, classification_report,confusion_matrix\n",
    "from sklearn.model_selection import train_test_split\n",
    "df_pairs_train, df_pairs_test = train_test_split(df_pairs, test_size=0.2, random_state=10)"
   ]
  },
  {
   "cell_type": "code",
   "execution_count": null,
   "metadata": {
    "colab": {
     "base_uri": "https://localhost:8080/"
    },
    "id": "yd_JEj-NNdnF",
    "outputId": "ee5d301a-018c-4954-d4d4-5929ea873b90"
   },
   "outputs": [
    {
     "data": {
      "text/plain": [
       "(463125, 29)"
      ]
     },
     "execution_count": 28,
     "metadata": {},
     "output_type": "execute_result"
    }
   ],
   "source": [
    "df_pairs_train.shape"
   ]
  },
  {
   "cell_type": "code",
   "execution_count": null,
   "metadata": {
    "colab": {
     "base_uri": "https://localhost:8080/"
    },
    "id": "A7azxUiNNg7u",
    "outputId": "408f1d0b-89d9-4464-b5d3-716a928d4b54"
   },
   "outputs": [
    {
     "data": {
      "text/plain": [
       "(115782, 29)"
      ]
     },
     "execution_count": 29,
     "metadata": {},
     "output_type": "execute_result"
    }
   ],
   "source": [
    "df_pairs_test.shape"
   ]
  },
  {
   "cell_type": "code",
   "execution_count": null,
   "metadata": {
    "colab": {
     "base_uri": "https://localhost:8080/"
    },
    "id": "TWzEzYPfPHLc",
    "outputId": "a9a0ea7a-b0c6-4da8-efad-c4064d5c38d4"
   },
   "outputs": [
    {
     "data": {
      "text/plain": [
       "true     318841\n",
       "false    144284\n",
       "Name: match, dtype: int64"
      ]
     },
     "execution_count": 30,
     "metadata": {},
     "output_type": "execute_result"
    }
   ],
   "source": [
    "df_pairs_train['match'].value_counts()"
   ]
  },
  {
   "cell_type": "code",
   "execution_count": null,
   "metadata": {
    "id": "TsnbuntkYdPp"
   },
   "outputs": [],
   "source": [
    "def without_hue(ax, feature):\n",
    "    total = len(feature)\n",
    "    for p in ax.patches:\n",
    "        percentage = '{:.1f}%'.format(100 * p.get_height()/total)\n",
    "        x = p.get_x() + p.get_width() / 2 - 0.05\n",
    "        y = p.get_y() + p.get_height()\n",
    "        ax.annotate(percentage, (x, y), size = 12)"
   ]
  },
  {
   "cell_type": "code",
   "execution_count": null,
   "metadata": {
    "colab": {
     "base_uri": "https://localhost:8080/",
     "height": 282
    },
    "id": "aY2N2AIjT1Qy",
    "outputId": "598633a1-b4d7-4fcc-f8b2-e74081b0571d"
   },
   "outputs": [
    {
     "data": {
      "image/png": "[encoded data removed]",
      "text/plain": [
       "<Figure size 432x288 with 1 Axes>"
      ]
     },
     "metadata": {
      "needs_background": "light"
     },
     "output_type": "display_data"
    }
   ],
   "source": [
    "ax = sns.countplot(x=\"match\", palette=\"husl\", data=df_pairs_train)\n",
    "plt.xticks(size = 12)\n",
    "plt.yticks(size = 12)\n",
    "without_hue(ax, df_pairs_train.match)"
   ]
  },
  {
   "cell_type": "code",
   "execution_count": null,
   "metadata": {
    "colab": {
     "base_uri": "https://localhost:8080/",
     "height": 282
    },
    "id": "a-f1ApHMW22T",
    "outputId": "359cd372-6906-4b2e-a242-90b3656236d8"
   },
   "outputs": [
    {
     "data": {
      "image/png": "[encoded data removed]",
      "text/plain": [
       "<Figure size 432x288 with 1 Axes>"
      ]
     },
     "metadata": {
      "needs_background": "light"
     },
     "output_type": "display_data"
    }
   ],
   "source": [
    "ax = sns.countplot(x=\"match\", palette=\"husl\", data=df_pairs_test)\n",
    "plt.xticks(size = 12)\n",
    "plt.yticks(size = 12)\n",
    "without_hue(ax, df_pairs_test.match)"
   ]
  },
  {
   "cell_type": "code",
   "execution_count": null,
   "metadata": {
    "id": "V1MOZVB2ATZJ"
   },
   "outputs": [],
   "source": []
  }
 ],
 "metadata": {
  "colab": {
   "collapsed_sections": [],
   "name": "Final_Exam_CPSC_4840.ipynb",
   "provenance": []
  },
  "gpuClass": "standard",
  "kernelspec": {
   "display_name": "Python 3",
   "language": "python",
   "name": "python3"
  },
  "language_info": {
   "codemirror_mode": {
    "name": "ipython",
    "version": 3
   },
   "file_extension": ".py",
   "mimetype": "text/x-python",
   "name": "python",
   "nbconvert_exporter": "python",
   "pygments_lexer": "ipython3",
   "version": "3.8.8"
  }
 },
 "nbformat": 4,
 "nbformat_minor": 1
}
